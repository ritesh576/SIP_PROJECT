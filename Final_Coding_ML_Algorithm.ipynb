{
 "cells": [
  {
   "cell_type": "code",
   "execution_count": 1,
   "id": "standing-treat",
   "metadata": {
    "_cell_guid": "b1076dfc-b9ad-4769-8c92-a6c4dae69d19",
    "_uuid": "8f2839f25d086af736a60e9eeb907d3b93b6e0e5",
    "execution": {
     "iopub.execute_input": "2021-05-17T20:48:49.813724Z",
     "iopub.status.busy": "2021-05-17T20:48:49.812892Z",
     "iopub.status.idle": "2021-05-17T20:48:50.951494Z",
     "shell.execute_reply": "2021-05-17T20:48:50.952006Z"
    },
    "papermill": {
     "duration": 1.176006,
     "end_time": "2021-05-17T20:48:50.952414",
     "exception": false,
     "start_time": "2021-05-17T20:48:49.776408",
     "status": "completed"
    },
    "tags": []
   },
   "outputs": [],
   "source": [
    "import numpy as np\n",
    "import pandas as pd\n",
    "import matplotlib.pyplot as plt\n",
    "import seaborn as sns\n",
    "import plotly.express as px\n",
    "import warnings\n",
    "warnings.filterwarnings('ignore')"
   ]
  },
  {
   "cell_type": "code",
   "execution_count": 2,
   "id": "formed-commons",
   "metadata": {
    "execution": {
     "iopub.execute_input": "2021-05-17T20:48:51.068703Z",
     "iopub.status.busy": "2021-05-17T20:48:51.067664Z",
     "iopub.status.idle": "2021-05-17T20:48:51.137407Z",
     "shell.execute_reply": "2021-05-17T20:48:51.137953Z"
    },
    "papermill": {
     "duration": 0.102438,
     "end_time": "2021-05-17T20:48:51.138177",
     "exception": false,
     "start_time": "2021-05-17T20:48:51.035739",
     "status": "completed"
    },
    "tags": []
   },
   "outputs": [],
   "source": [
    "df = pd.read_csv(\"Train.csv\")"
   ]
  },
  {
   "cell_type": "code",
   "execution_count": 3,
   "id": "statutory-sixth",
   "metadata": {
    "execution": {
     "iopub.execute_input": "2021-05-17T20:48:51.475782Z",
     "iopub.status.busy": "2021-05-17T20:48:51.474764Z",
     "iopub.status.idle": "2021-05-17T20:48:51.479566Z",
     "shell.execute_reply": "2021-05-17T20:48:51.478971Z"
    },
    "papermill": {
     "duration": 0.041005,
     "end_time": "2021-05-17T20:48:51.479743",
     "exception": false,
     "start_time": "2021-05-17T20:48:51.438738",
     "status": "completed"
    },
    "tags": []
   },
   "outputs": [],
   "source": [
    "df.drop('ID', axis=1, inplace=True)\n",
    "df.rename({'Reached.on.Time_Y.N':'Reached_on_Time'}, axis=1, inplace=True)\n",
    "df['Reached_on_Time'].replace({'No': 1, 'Yes': 0 }, inplace=True)"
   ]
  },
  {
   "cell_type": "code",
   "execution_count": 4,
   "id": "yellow-victorian",
   "metadata": {
    "execution": {
     "iopub.execute_input": "2021-05-17T20:48:51.555627Z",
     "iopub.status.busy": "2021-05-17T20:48:51.554681Z",
     "iopub.status.idle": "2021-05-17T20:48:51.559373Z",
     "shell.execute_reply": "2021-05-17T20:48:51.558720Z"
    },
    "papermill": {
     "duration": 0.049956,
     "end_time": "2021-05-17T20:48:51.559547",
     "exception": false,
     "start_time": "2021-05-17T20:48:51.509591",
     "status": "completed"
    },
    "scrolled": false,
    "tags": []
   },
   "outputs": [
    {
     "data": {
      "text/html": [
       "<div>\n",
       "<style scoped>\n",
       "    .dataframe tbody tr th:only-of-type {\n",
       "        vertical-align: middle;\n",
       "    }\n",
       "\n",
       "    .dataframe tbody tr th {\n",
       "        vertical-align: top;\n",
       "    }\n",
       "\n",
       "    .dataframe thead th {\n",
       "        text-align: right;\n",
       "    }\n",
       "</style>\n",
       "<table border=\"1\" class=\"dataframe\">\n",
       "  <thead>\n",
       "    <tr style=\"text-align: right;\">\n",
       "      <th></th>\n",
       "      <th>Warehouse_block</th>\n",
       "      <th>Mode_of_Shipment</th>\n",
       "      <th>Customer_care_calls</th>\n",
       "      <th>Customer_rating</th>\n",
       "      <th>Cost_of_the_Product</th>\n",
       "      <th>Prior_purchases</th>\n",
       "      <th>Product_importance</th>\n",
       "      <th>Gender</th>\n",
       "      <th>Discount_offered</th>\n",
       "      <th>Weight_in_gms</th>\n",
       "      <th>Reached_on_Time</th>\n",
       "    </tr>\n",
       "  </thead>\n",
       "  <tbody>\n",
       "    <tr>\n",
       "      <th>0</th>\n",
       "      <td>D</td>\n",
       "      <td>Flight</td>\n",
       "      <td>4</td>\n",
       "      <td>2</td>\n",
       "      <td>177</td>\n",
       "      <td>3</td>\n",
       "      <td>low</td>\n",
       "      <td>F</td>\n",
       "      <td>44</td>\n",
       "      <td>1233</td>\n",
       "      <td>1</td>\n",
       "    </tr>\n",
       "    <tr>\n",
       "      <th>1</th>\n",
       "      <td>F</td>\n",
       "      <td>Flight</td>\n",
       "      <td>4</td>\n",
       "      <td>5</td>\n",
       "      <td>216</td>\n",
       "      <td>2</td>\n",
       "      <td>low</td>\n",
       "      <td>M</td>\n",
       "      <td>59</td>\n",
       "      <td>3088</td>\n",
       "      <td>1</td>\n",
       "    </tr>\n",
       "    <tr>\n",
       "      <th>2</th>\n",
       "      <td>A</td>\n",
       "      <td>Flight</td>\n",
       "      <td>2</td>\n",
       "      <td>2</td>\n",
       "      <td>183</td>\n",
       "      <td>4</td>\n",
       "      <td>low</td>\n",
       "      <td>M</td>\n",
       "      <td>48</td>\n",
       "      <td>3374</td>\n",
       "      <td>1</td>\n",
       "    </tr>\n",
       "    <tr>\n",
       "      <th>3</th>\n",
       "      <td>B</td>\n",
       "      <td>Flight</td>\n",
       "      <td>3</td>\n",
       "      <td>3</td>\n",
       "      <td>176</td>\n",
       "      <td>4</td>\n",
       "      <td>medium</td>\n",
       "      <td>M</td>\n",
       "      <td>10</td>\n",
       "      <td>1177</td>\n",
       "      <td>1</td>\n",
       "    </tr>\n",
       "    <tr>\n",
       "      <th>4</th>\n",
       "      <td>C</td>\n",
       "      <td>Flight</td>\n",
       "      <td>2</td>\n",
       "      <td>2</td>\n",
       "      <td>184</td>\n",
       "      <td>3</td>\n",
       "      <td>medium</td>\n",
       "      <td>F</td>\n",
       "      <td>46</td>\n",
       "      <td>2484</td>\n",
       "      <td>1</td>\n",
       "    </tr>\n",
       "  </tbody>\n",
       "</table>\n",
       "</div>"
      ],
      "text/plain": [
       "  Warehouse_block Mode_of_Shipment  Customer_care_calls  Customer_rating  \\\n",
       "0               D           Flight                    4                2   \n",
       "1               F           Flight                    4                5   \n",
       "2               A           Flight                    2                2   \n",
       "3               B           Flight                    3                3   \n",
       "4               C           Flight                    2                2   \n",
       "\n",
       "   Cost_of_the_Product  Prior_purchases Product_importance Gender  \\\n",
       "0                  177                3                low      F   \n",
       "1                  216                2                low      M   \n",
       "2                  183                4                low      M   \n",
       "3                  176                4             medium      M   \n",
       "4                  184                3             medium      F   \n",
       "\n",
       "   Discount_offered  Weight_in_gms  Reached_on_Time  \n",
       "0                44           1233                1  \n",
       "1                59           3088                1  \n",
       "2                48           3374                1  \n",
       "3                10           1177                1  \n",
       "4                46           2484                1  "
      ]
     },
     "execution_count": 4,
     "metadata": {},
     "output_type": "execute_result"
    }
   ],
   "source": [
    "df.head()"
   ]
  },
  {
   "cell_type": "markdown",
   "id": "4c3b3f42",
   "metadata": {},
   "source": [
    "# One-Hot-Encoding"
   ]
  },
  {
   "cell_type": "code",
   "execution_count": 5,
   "id": "permanent-edmonton",
   "metadata": {
    "execution": {
     "iopub.execute_input": "2021-05-17T20:49:07.227930Z",
     "iopub.status.busy": "2021-05-17T20:49:07.227134Z",
     "iopub.status.idle": "2021-05-17T20:49:07.230825Z",
     "shell.execute_reply": "2021-05-17T20:49:07.231365Z"
    },
    "papermill": {
     "duration": 0.073236,
     "end_time": "2021-05-17T20:49:07.231579",
     "exception": false,
     "start_time": "2021-05-17T20:49:07.158343",
     "status": "completed"
    },
    "scrolled": false,
    "tags": []
   },
   "outputs": [
    {
     "data": {
      "text/html": [
       "<div>\n",
       "<style scoped>\n",
       "    .dataframe tbody tr th:only-of-type {\n",
       "        vertical-align: middle;\n",
       "    }\n",
       "\n",
       "    .dataframe tbody tr th {\n",
       "        vertical-align: top;\n",
       "    }\n",
       "\n",
       "    .dataframe thead th {\n",
       "        text-align: right;\n",
       "    }\n",
       "</style>\n",
       "<table border=\"1\" class=\"dataframe\">\n",
       "  <thead>\n",
       "    <tr style=\"text-align: right;\">\n",
       "      <th></th>\n",
       "      <th>Customer_care_calls</th>\n",
       "      <th>Customer_rating</th>\n",
       "      <th>Cost_of_the_Product</th>\n",
       "      <th>Prior_purchases</th>\n",
       "      <th>Discount_offered</th>\n",
       "      <th>Weight_in_gms</th>\n",
       "      <th>Reached_on_Time</th>\n",
       "      <th>Warehouse_block_B</th>\n",
       "      <th>Warehouse_block_C</th>\n",
       "      <th>Warehouse_block_D</th>\n",
       "      <th>Warehouse_block_F</th>\n",
       "      <th>Mode_of_Shipment_Road</th>\n",
       "      <th>Mode_of_Shipment_Ship</th>\n",
       "      <th>Product_importance_low</th>\n",
       "      <th>Product_importance_medium</th>\n",
       "      <th>Gender_M</th>\n",
       "    </tr>\n",
       "  </thead>\n",
       "  <tbody>\n",
       "    <tr>\n",
       "      <th>0</th>\n",
       "      <td>4</td>\n",
       "      <td>2</td>\n",
       "      <td>177</td>\n",
       "      <td>3</td>\n",
       "      <td>44</td>\n",
       "      <td>1233</td>\n",
       "      <td>1</td>\n",
       "      <td>0</td>\n",
       "      <td>0</td>\n",
       "      <td>1</td>\n",
       "      <td>0</td>\n",
       "      <td>0</td>\n",
       "      <td>0</td>\n",
       "      <td>1</td>\n",
       "      <td>0</td>\n",
       "      <td>0</td>\n",
       "    </tr>\n",
       "    <tr>\n",
       "      <th>1</th>\n",
       "      <td>4</td>\n",
       "      <td>5</td>\n",
       "      <td>216</td>\n",
       "      <td>2</td>\n",
       "      <td>59</td>\n",
       "      <td>3088</td>\n",
       "      <td>1</td>\n",
       "      <td>0</td>\n",
       "      <td>0</td>\n",
       "      <td>0</td>\n",
       "      <td>1</td>\n",
       "      <td>0</td>\n",
       "      <td>0</td>\n",
       "      <td>1</td>\n",
       "      <td>0</td>\n",
       "      <td>1</td>\n",
       "    </tr>\n",
       "    <tr>\n",
       "      <th>2</th>\n",
       "      <td>2</td>\n",
       "      <td>2</td>\n",
       "      <td>183</td>\n",
       "      <td>4</td>\n",
       "      <td>48</td>\n",
       "      <td>3374</td>\n",
       "      <td>1</td>\n",
       "      <td>0</td>\n",
       "      <td>0</td>\n",
       "      <td>0</td>\n",
       "      <td>0</td>\n",
       "      <td>0</td>\n",
       "      <td>0</td>\n",
       "      <td>1</td>\n",
       "      <td>0</td>\n",
       "      <td>1</td>\n",
       "    </tr>\n",
       "    <tr>\n",
       "      <th>3</th>\n",
       "      <td>3</td>\n",
       "      <td>3</td>\n",
       "      <td>176</td>\n",
       "      <td>4</td>\n",
       "      <td>10</td>\n",
       "      <td>1177</td>\n",
       "      <td>1</td>\n",
       "      <td>1</td>\n",
       "      <td>0</td>\n",
       "      <td>0</td>\n",
       "      <td>0</td>\n",
       "      <td>0</td>\n",
       "      <td>0</td>\n",
       "      <td>0</td>\n",
       "      <td>1</td>\n",
       "      <td>1</td>\n",
       "    </tr>\n",
       "    <tr>\n",
       "      <th>4</th>\n",
       "      <td>2</td>\n",
       "      <td>2</td>\n",
       "      <td>184</td>\n",
       "      <td>3</td>\n",
       "      <td>46</td>\n",
       "      <td>2484</td>\n",
       "      <td>1</td>\n",
       "      <td>0</td>\n",
       "      <td>1</td>\n",
       "      <td>0</td>\n",
       "      <td>0</td>\n",
       "      <td>0</td>\n",
       "      <td>0</td>\n",
       "      <td>0</td>\n",
       "      <td>1</td>\n",
       "      <td>0</td>\n",
       "    </tr>\n",
       "    <tr>\n",
       "      <th>...</th>\n",
       "      <td>...</td>\n",
       "      <td>...</td>\n",
       "      <td>...</td>\n",
       "      <td>...</td>\n",
       "      <td>...</td>\n",
       "      <td>...</td>\n",
       "      <td>...</td>\n",
       "      <td>...</td>\n",
       "      <td>...</td>\n",
       "      <td>...</td>\n",
       "      <td>...</td>\n",
       "      <td>...</td>\n",
       "      <td>...</td>\n",
       "      <td>...</td>\n",
       "      <td>...</td>\n",
       "      <td>...</td>\n",
       "    </tr>\n",
       "    <tr>\n",
       "      <th>10994</th>\n",
       "      <td>4</td>\n",
       "      <td>1</td>\n",
       "      <td>252</td>\n",
       "      <td>5</td>\n",
       "      <td>1</td>\n",
       "      <td>1538</td>\n",
       "      <td>1</td>\n",
       "      <td>0</td>\n",
       "      <td>0</td>\n",
       "      <td>0</td>\n",
       "      <td>0</td>\n",
       "      <td>0</td>\n",
       "      <td>1</td>\n",
       "      <td>0</td>\n",
       "      <td>1</td>\n",
       "      <td>0</td>\n",
       "    </tr>\n",
       "    <tr>\n",
       "      <th>10995</th>\n",
       "      <td>4</td>\n",
       "      <td>1</td>\n",
       "      <td>232</td>\n",
       "      <td>5</td>\n",
       "      <td>6</td>\n",
       "      <td>1247</td>\n",
       "      <td>0</td>\n",
       "      <td>1</td>\n",
       "      <td>0</td>\n",
       "      <td>0</td>\n",
       "      <td>0</td>\n",
       "      <td>0</td>\n",
       "      <td>1</td>\n",
       "      <td>0</td>\n",
       "      <td>1</td>\n",
       "      <td>0</td>\n",
       "    </tr>\n",
       "    <tr>\n",
       "      <th>10996</th>\n",
       "      <td>5</td>\n",
       "      <td>4</td>\n",
       "      <td>242</td>\n",
       "      <td>5</td>\n",
       "      <td>4</td>\n",
       "      <td>1155</td>\n",
       "      <td>0</td>\n",
       "      <td>0</td>\n",
       "      <td>1</td>\n",
       "      <td>0</td>\n",
       "      <td>0</td>\n",
       "      <td>0</td>\n",
       "      <td>1</td>\n",
       "      <td>1</td>\n",
       "      <td>0</td>\n",
       "      <td>0</td>\n",
       "    </tr>\n",
       "    <tr>\n",
       "      <th>10997</th>\n",
       "      <td>5</td>\n",
       "      <td>2</td>\n",
       "      <td>223</td>\n",
       "      <td>6</td>\n",
       "      <td>2</td>\n",
       "      <td>1210</td>\n",
       "      <td>0</td>\n",
       "      <td>0</td>\n",
       "      <td>0</td>\n",
       "      <td>0</td>\n",
       "      <td>1</td>\n",
       "      <td>0</td>\n",
       "      <td>1</td>\n",
       "      <td>0</td>\n",
       "      <td>1</td>\n",
       "      <td>1</td>\n",
       "    </tr>\n",
       "    <tr>\n",
       "      <th>10998</th>\n",
       "      <td>2</td>\n",
       "      <td>5</td>\n",
       "      <td>155</td>\n",
       "      <td>5</td>\n",
       "      <td>6</td>\n",
       "      <td>1639</td>\n",
       "      <td>0</td>\n",
       "      <td>0</td>\n",
       "      <td>0</td>\n",
       "      <td>1</td>\n",
       "      <td>0</td>\n",
       "      <td>0</td>\n",
       "      <td>1</td>\n",
       "      <td>1</td>\n",
       "      <td>0</td>\n",
       "      <td>0</td>\n",
       "    </tr>\n",
       "  </tbody>\n",
       "</table>\n",
       "<p>10999 rows × 16 columns</p>\n",
       "</div>"
      ],
      "text/plain": [
       "       Customer_care_calls  Customer_rating  Cost_of_the_Product  \\\n",
       "0                        4                2                  177   \n",
       "1                        4                5                  216   \n",
       "2                        2                2                  183   \n",
       "3                        3                3                  176   \n",
       "4                        2                2                  184   \n",
       "...                    ...              ...                  ...   \n",
       "10994                    4                1                  252   \n",
       "10995                    4                1                  232   \n",
       "10996                    5                4                  242   \n",
       "10997                    5                2                  223   \n",
       "10998                    2                5                  155   \n",
       "\n",
       "       Prior_purchases  Discount_offered  Weight_in_gms  Reached_on_Time  \\\n",
       "0                    3                44           1233                1   \n",
       "1                    2                59           3088                1   \n",
       "2                    4                48           3374                1   \n",
       "3                    4                10           1177                1   \n",
       "4                    3                46           2484                1   \n",
       "...                ...               ...            ...              ...   \n",
       "10994                5                 1           1538                1   \n",
       "10995                5                 6           1247                0   \n",
       "10996                5                 4           1155                0   \n",
       "10997                6                 2           1210                0   \n",
       "10998                5                 6           1639                0   \n",
       "\n",
       "       Warehouse_block_B  Warehouse_block_C  Warehouse_block_D  \\\n",
       "0                      0                  0                  1   \n",
       "1                      0                  0                  0   \n",
       "2                      0                  0                  0   \n",
       "3                      1                  0                  0   \n",
       "4                      0                  1                  0   \n",
       "...                  ...                ...                ...   \n",
       "10994                  0                  0                  0   \n",
       "10995                  1                  0                  0   \n",
       "10996                  0                  1                  0   \n",
       "10997                  0                  0                  0   \n",
       "10998                  0                  0                  1   \n",
       "\n",
       "       Warehouse_block_F  Mode_of_Shipment_Road  Mode_of_Shipment_Ship  \\\n",
       "0                      0                      0                      0   \n",
       "1                      1                      0                      0   \n",
       "2                      0                      0                      0   \n",
       "3                      0                      0                      0   \n",
       "4                      0                      0                      0   \n",
       "...                  ...                    ...                    ...   \n",
       "10994                  0                      0                      1   \n",
       "10995                  0                      0                      1   \n",
       "10996                  0                      0                      1   \n",
       "10997                  1                      0                      1   \n",
       "10998                  0                      0                      1   \n",
       "\n",
       "       Product_importance_low  Product_importance_medium  Gender_M  \n",
       "0                           1                          0         0  \n",
       "1                           1                          0         1  \n",
       "2                           1                          0         1  \n",
       "3                           0                          1         1  \n",
       "4                           0                          1         0  \n",
       "...                       ...                        ...       ...  \n",
       "10994                       0                          1         0  \n",
       "10995                       0                          1         0  \n",
       "10996                       1                          0         0  \n",
       "10997                       0                          1         1  \n",
       "10998                       1                          0         0  \n",
       "\n",
       "[10999 rows x 16 columns]"
      ]
     },
     "execution_count": 5,
     "metadata": {},
     "output_type": "execute_result"
    }
   ],
   "source": [
    "df = pd.get_dummies(df, drop_first=True)\n",
    "df"
   ]
  },
  {
   "cell_type": "code",
   "execution_count": 6,
   "id": "8fdfab89",
   "metadata": {},
   "outputs": [],
   "source": [
    "X = df.drop('Reached_on_Time', axis=1)\n",
    "y = df['Reached_on_Time']"
   ]
  },
  {
   "cell_type": "code",
   "execution_count": 7,
   "id": "02e5e3b7",
   "metadata": {},
   "outputs": [],
   "source": [
    "from sklearn.ensemble import ExtraTreesClassifier\n",
    "from sklearn.feature_selection import SelectFromModel\n",
    "from sklearn.model_selection import train_test_split"
   ]
  },
  {
   "cell_type": "code",
   "execution_count": 8,
   "id": "ae30bcfa",
   "metadata": {},
   "outputs": [
    {
     "name": "stdout",
     "output_type": "stream",
     "text": [
      "Feature Importances:\n",
      "[0.07514067 0.07782889 0.15657956 0.07829438 0.23444024 0.2329113\n",
      " 0.01227703 0.01516268 0.01342343 0.01759792 0.0123651  0.01776622\n",
      " 0.01230296 0.01342694 0.0304827 ]\n"
     ]
    }
   ],
   "source": [
    "# Assuming your labels are stored in a column named 'target' in the Excel file\n",
    "your_labels = y\n",
    "\n",
    "# Drop the 'target' column from your data as it represents the labels\n",
    "your_data = X\n",
    "X_train, X_test, y_train, y_test = train_test_split(X, y, test_size=0.3, random_state=42)\n",
    "# Create an ExtraTreesClassifier and fit it to your data\n",
    "clf = ExtraTreesClassifier(n_estimators=20)\n",
    "clf = clf.fit(your_data, your_labels)\n",
    "\n",
    "# Check feature importances\n",
    "print(\"Feature Importances:\")\n",
    "print(clf.feature_importances_)"
   ]
  },
  {
   "cell_type": "code",
   "execution_count": 9,
   "id": "01f0bfed",
   "metadata": {},
   "outputs": [
    {
     "name": "stdout",
     "output_type": "stream",
     "text": [
      "Original Data Shape: (10999, 15)\n",
      "Transformed Data Shape: (10999, 6)\n"
     ]
    }
   ],
   "source": [
    "model = SelectFromModel(clf, prefit=True)\n",
    "your_data_new = model.transform(your_data)\n",
    "print(\"Original Data Shape:\", your_data.shape)\n",
    "print(\"Transformed Data Shape:\", your_data_new.shape)"
   ]
  },
  {
   "cell_type": "code",
   "execution_count": 10,
   "id": "5d841f17",
   "metadata": {},
   "outputs": [
    {
     "data": {
      "text/plain": [
       "array([[   4,    2,  177,    3,   44, 1233],\n",
       "       [   4,    5,  216,    2,   59, 3088],\n",
       "       [   2,    2,  183,    4,   48, 3374],\n",
       "       ...,\n",
       "       [   5,    4,  242,    5,    4, 1155],\n",
       "       [   5,    2,  223,    6,    2, 1210],\n",
       "       [   2,    5,  155,    5,    6, 1639]], dtype=int64)"
      ]
     },
     "execution_count": 10,
     "metadata": {},
     "output_type": "execute_result"
    }
   ],
   "source": [
    "your_data_new"
   ]
  },
  {
   "cell_type": "code",
   "execution_count": null,
   "id": "72795ee7",
   "metadata": {},
   "outputs": [],
   "source": []
  },
  {
   "cell_type": "code",
   "execution_count": 11,
   "id": "comic-science",
   "metadata": {
    "execution": {
     "iopub.execute_input": "2021-05-17T20:49:09.897187Z",
     "iopub.status.busy": "2021-05-17T20:49:09.896335Z",
     "iopub.status.idle": "2021-05-17T20:49:10.161950Z",
     "shell.execute_reply": "2021-05-17T20:49:10.160804Z"
    },
    "papermill": {
     "duration": 0.328642,
     "end_time": "2021-05-17T20:49:10.162170",
     "exception": false,
     "start_time": "2021-05-17T20:49:09.833528",
     "status": "completed"
    },
    "tags": []
   },
   "outputs": [],
   "source": [
    "from sklearn.preprocessing import StandardScaler\n",
    "from sklearn.model_selection import train_test_split\n",
    "from sklearn.linear_model import LogisticRegression\n",
    "from sklearn.tree import DecisionTreeClassifier\n",
    "from sklearn.ensemble import RandomForestClassifier\n",
    "from sklearn.svm import SVC\n",
    "from sklearn.metrics import recall_score\n",
    "from sklearn.metrics import accuracy_score\n",
    "from sklearn.metrics import roc_auc_score\n",
    "from sklearn.metrics import f1_score\n",
    "from sklearn.metrics import precision_score\n",
    "from sklearn.metrics import classification_report, confusion_matrix"
   ]
  },
  {
   "cell_type": "code",
   "execution_count": 12,
   "id": "complex-flight",
   "metadata": {
    "execution": {
     "iopub.execute_input": "2021-05-17T20:49:10.287513Z",
     "iopub.status.busy": "2021-05-17T20:49:10.286381Z",
     "iopub.status.idle": "2021-05-17T20:49:10.302511Z",
     "shell.execute_reply": "2021-05-17T20:49:10.301740Z"
    },
    "papermill": {
     "duration": 0.082462,
     "end_time": "2021-05-17T20:49:10.302687",
     "exception": false,
     "start_time": "2021-05-17T20:49:10.220225",
     "status": "completed"
    },
    "tags": []
   },
   "outputs": [],
   "source": [
    "X= your_data_new\n",
    "y= df['Reached_on_Time']\n",
    "\n",
    "X_train, X_test, y_train, y_test= train_test_split(X,y, test_size=0.2, stratify=y)"
   ]
  },
  {
   "cell_type": "code",
   "execution_count": 13,
   "id": "surface-humanity",
   "metadata": {
    "execution": {
     "iopub.execute_input": "2021-05-17T20:49:10.427389Z",
     "iopub.status.busy": "2021-05-17T20:49:10.426559Z",
     "iopub.status.idle": "2021-05-17T20:49:10.438517Z",
     "shell.execute_reply": "2021-05-17T20:49:10.439085Z"
    },
    "papermill": {
     "duration": 0.07888,
     "end_time": "2021-05-17T20:49:10.439350",
     "exception": false,
     "start_time": "2021-05-17T20:49:10.360470",
     "status": "completed"
    },
    "tags": []
   },
   "outputs": [],
   "source": [
    "ss= StandardScaler()\n",
    "X_train= ss.fit_transform(X_train)\n",
    "X_test=ss.transform(X_test)"
   ]
  },
  {
   "cell_type": "code",
   "execution_count": null,
   "id": "combined-mistress",
   "metadata": {
    "execution": {
     "iopub.execute_input": "2021-05-17T20:49:10.682555Z",
     "iopub.status.busy": "2021-05-17T20:49:10.681702Z",
     "iopub.status.idle": "2021-05-17T20:49:11.301312Z",
     "shell.execute_reply": "2021-05-17T20:49:11.300591Z"
    },
    "papermill": {
     "duration": 0.684595,
     "end_time": "2021-05-17T20:49:11.301514",
     "exception": false,
     "start_time": "2021-05-17T20:49:10.616919",
     "status": "completed"
    },
    "tags": []
   },
   "outputs": [],
   "source": []
  },
  {
   "cell_type": "code",
   "execution_count": 14,
   "id": "analyzed-vector",
   "metadata": {
    "execution": {
     "iopub.execute_input": "2021-05-17T20:49:11.427230Z",
     "iopub.status.busy": "2021-05-17T20:49:11.426448Z",
     "iopub.status.idle": "2021-05-17T20:49:11.429531Z",
     "shell.execute_reply": "2021-05-17T20:49:11.428939Z"
    },
    "papermill": {
     "duration": 0.06853,
     "end_time": "2021-05-17T20:49:11.429697",
     "exception": false,
     "start_time": "2021-05-17T20:49:11.361167",
     "status": "completed"
    },
    "tags": []
   },
   "outputs": [],
   "source": [
    "key= ['LogisticRegression', 'DecisionTreeClassifier', 'RandomForestClassifier', 'SVC']\n",
    "value= [LogisticRegression(), DecisionTreeClassifier(), RandomForestClassifier(), SVC(probability=True,random_state=42)]\n",
    "models= dict(zip(key, value))\n",
    "au=float(56)\n",
    "auc_df = pd.DataFrame(columns=['', 'AUC'])"
   ]
  },
  {
   "cell_type": "code",
   "execution_count": 15,
   "id": "unusual-penalty",
   "metadata": {
    "execution": {
     "iopub.execute_input": "2021-05-17T20:49:11.554578Z",
     "iopub.status.busy": "2021-05-17T20:49:11.553394Z",
     "iopub.status.idle": "2021-05-17T20:49:19.229942Z",
     "shell.execute_reply": "2021-05-17T20:49:19.230468Z"
    },
    "papermill": {
     "duration": 7.742679,
     "end_time": "2021-05-17T20:49:19.230681",
     "exception": false,
     "start_time": "2021-05-17T20:49:11.488002",
     "status": "completed"
    },
    "scrolled": false,
    "tags": []
   },
   "outputs": [
    {
     "name": "stdout",
     "output_type": "stream",
     "text": [
      "LogisticRegression\n",
      "              precision    recall  f1-score   support\n",
      "\n",
      "           0       0.55      0.57      0.56       887\n",
      "           1       0.71      0.69      0.70      1313\n",
      "\n",
      "    accuracy                           0.64      2200\n",
      "   macro avg       0.63      0.63      0.63      2200\n",
      "weighted avg       0.64      0.64      0.64      2200\n",
      "\n",
      "Confusion Matrix\n",
      " [[510 377]\n",
      " [410 903]]\n",
      "\n",
      "\n",
      "ROC Score\t 0.7234600487192939\n",
      "\n",
      "\n",
      "------------------------------------------------------------\n",
      "DecisionTreeClassifier\n",
      "              precision    recall  f1-score   support\n",
      "\n",
      "           0       0.56      0.56      0.56       887\n",
      "           1       0.70      0.70      0.70      1313\n",
      "\n",
      "    accuracy                           0.64      2200\n",
      "   macro avg       0.63      0.63      0.63      2200\n",
      "weighted avg       0.64      0.64      0.64      2200\n",
      "\n",
      "Confusion Matrix\n",
      " [[495 392]\n",
      " [395 918]]\n",
      "\n",
      "\n",
      "ROC Score\t 0.6286115516416787\n",
      "\n",
      "\n",
      "------------------------------------------------------------\n",
      "RandomForestClassifier\n",
      "              precision    recall  f1-score   support\n",
      "\n",
      "           0       0.56      0.66      0.61       887\n",
      "           1       0.74      0.65      0.69      1313\n",
      "\n",
      "    accuracy                           0.65      2200\n",
      "   macro avg       0.65      0.65      0.65      2200\n",
      "weighted avg       0.67      0.65      0.66      2200\n",
      "\n",
      "Confusion Matrix\n",
      " [[583 304]\n",
      " [457 856]]\n",
      "\n",
      "\n",
      "ROC Score\t 0.7322353603845337\n",
      "\n",
      "\n",
      "------------------------------------------------------------\n",
      "SVC\n",
      "              precision    recall  f1-score   support\n",
      "\n",
      "           0       0.56      0.91      0.70       887\n",
      "           1       0.90      0.52      0.66      1313\n",
      "\n",
      "    accuracy                           0.68      2200\n",
      "   macro avg       0.73      0.72      0.68      2200\n",
      "weighted avg       0.76      0.68      0.67      2200\n",
      "\n",
      "Confusion Matrix\n",
      " [[808  79]\n",
      " [628 685]]\n",
      "\n",
      "\n",
      "ROC Score\t 0.7373090704265987\n",
      "\n",
      "\n",
      "------------------------------------------------------------\n"
     ]
    }
   ],
   "source": [
    "for key,value in models.items():\n",
    "    value.fit(X_train, y_train)\n",
    "    pred= value.predict(X_test)\n",
    "    print(key)\n",
    "    print(classification_report(y_test, pred))\n",
    "    print(\"Confusion Matrix\\n\",confusion_matrix(y_test, pred))\n",
    "    print(\"\\n\")\n",
    "    y_prob = value.predict_proba(X_test)[:, 1]\n",
    "    print(\"ROC Score\\t\", roc_auc_score(y_test, y_prob)) \n",
    "    print(\"\\n\")\n",
    "    print(\"-\"*60)"
   ]
  },
  {
   "cell_type": "code",
   "execution_count": 16,
   "id": "4e3f7f24",
   "metadata": {
    "scrolled": false
   },
   "outputs": [
    {
     "name": "stdout",
     "output_type": "stream",
     "text": [
      "                  Classifier  Accuracy\n",
      "0        Logistic Regression  0.642273\n",
      "1   Decision Tree Classifier  0.646818\n",
      "2   Random Forest Classifier  0.642273\n",
      "3  Support Vector Classifier  0.678636\n"
     ]
    },
    {
     "data": {
      "image/png": "[encoded data removed]",
      "text/plain": [
       "<Figure size 800x400 with 1 Axes>"
      ]
     },
     "metadata": {},
     "output_type": "display_data"
    }
   ],
   "source": [
    "#Accuracy\n",
    "classifiers = {\n",
    "    'Logistic Regression': LogisticRegression(random_state=42),\n",
    "    'Decision Tree Classifier': DecisionTreeClassifier(random_state=42),\n",
    "    'Random Forest Classifier': RandomForestClassifier(random_state=42),\n",
    "    'Support Vector Classifier': SVC(random_state=42)\n",
    "}\n",
    "\n",
    "# Store accuracy scores in a DataFrame\n",
    "accuracy_df = pd.DataFrame(columns=['Classifier', 'Accuracy'])\n",
    "\n",
    "# Loop through classifiers and calculate accuracy\n",
    "for clf_name, clf in classifiers.items():\n",
    "    clf.fit(X_train, y_train)\n",
    "    y_pred = clf.predict(X_test)\n",
    "    accuracy = accuracy_score(y_test, y_pred)\n",
    "    accuracy_df = accuracy_df.append({'Classifier': clf_name, 'Accuracy': accuracy}, ignore_index=True)\n",
    "\n",
    "# Display accuracy scores\n",
    "print(accuracy_df)\n",
    "\n",
    "# Plot horizontal accuracy scores with custom colors\n",
    "colors = ['lightblue', 'lightcoral', 'lightgreen', 'lightsalmon']\n",
    "\n",
    "plt.figure(figsize=(8, 4))  # Increase figure size\n",
    "plt.barh(accuracy_df['Classifier'], accuracy_df['Accuracy'], color=colors)\n",
    "plt.title('Accuracy Comparison for Different Classifiers')\n",
    "plt.xlabel('Accuracy')\n",
    "plt.ylabel('Classifier')\n",
    "plt.xlim([0, 1])\n",
    "plt.tight_layout()  # Adjust spacing\n",
    "plt.show()"
   ]
  },
  {
   "cell_type": "code",
   "execution_count": 115,
   "id": "cf3769ec",
   "metadata": {
    "scrolled": false
   },
   "outputs": [
    {
     "name": "stdout",
     "output_type": "stream",
     "text": [
      "                  Classifier  Precision\n",
      "0        Logistic Regression   0.695093\n",
      "1   Decision Tree Classifier   0.704193\n",
      "2   Random Forest Classifier   0.738393\n",
      "3  Support Vector Classifier   0.880272\n"
     ]
    },
    {
     "data": {
      "image/png": "[encoded data removed]",
      "text/plain": [
       "<Figure size 800x400 with 1 Axes>"
      ]
     },
     "metadata": {},
     "output_type": "display_data"
    }
   ],
   "source": [
    "#Precision\n",
    "classifiers = {\n",
    "    'Logistic Regression': LogisticRegression(random_state=42),\n",
    "    'Decision Tree Classifier': DecisionTreeClassifier(random_state=42),\n",
    "    'Random Forest Classifier': RandomForestClassifier(random_state=42),\n",
    "    'Support Vector Classifier': SVC(random_state=42)\n",
    "}\n",
    "\n",
    "# Store precision scores in a DataFrame\n",
    "precision_df = pd.DataFrame(columns=['Classifier', 'Precision'])\n",
    "\n",
    "# Loop through classifiers and calculate precision\n",
    "for clf_name, clf in classifiers.items():\n",
    "    clf.fit(X_train, y_train)\n",
    "    y_pred = clf.predict(X_test)\n",
    "    precision = precision_score(y_test, y_pred)\n",
    "    precision_df = precision_df.append({'Classifier': clf_name, 'Precision': precision}, ignore_index=True)\n",
    "\n",
    "# Display precision scores\n",
    "print(precision_df)\n",
    "\n",
    "colors = ['lightblue', 'lightcoral', 'lightgreen', 'lightsalmon']\n",
    "\n",
    "plt.figure(figsize=(8, 4))\n",
    "plt.barh(precision_df['Classifier'], precision_df['Precision'], color=colors)\n",
    "plt.title('Precision Comparison for Different Classifiers')\n",
    "plt.xlabel('Precision')\n",
    "plt.ylabel('Classifier')\n",
    "plt.xlim([0, 1])\n",
    "plt.show()"
   ]
  },
  {
   "cell_type": "code",
   "execution_count": 116,
   "id": "7810ffb7",
   "metadata": {},
   "outputs": [
    {
     "name": "stdout",
     "output_type": "stream",
     "text": [
      "                  Classifier    Recall\n",
      "0        Logistic Regression  0.658035\n",
      "1   Decision Tree Classifier  0.690784\n",
      "2   Random Forest Classifier  0.629855\n",
      "3  Support Vector Classifier  0.492765\n"
     ]
    },
    {
     "data": {
      "image/png": "[encoded data removed]",
      "text/plain": [
       "<Figure size 800x400 with 1 Axes>"
      ]
     },
     "metadata": {},
     "output_type": "display_data"
    }
   ],
   "source": [
    "#Recall\n",
    "classifiers = {\n",
    "    'Logistic Regression': LogisticRegression(random_state=42),\n",
    "    'Decision Tree Classifier': DecisionTreeClassifier(random_state=42),\n",
    "    'Random Forest Classifier': RandomForestClassifier(random_state=42),\n",
    "    'Support Vector Classifier': SVC(random_state=42)\n",
    "}\n",
    "\n",
    "# Store recall scores in a DataFrame\n",
    "recall_df = pd.DataFrame(columns=['Classifier', 'Recall'])\n",
    "\n",
    "# Loop through classifiers and calculate recall\n",
    "for clf_name, clf in classifiers.items():\n",
    "    clf.fit(X_train, y_train)\n",
    "    y_pred = clf.predict(X_test)\n",
    "    recall = recall_score(y_test, y_pred)\n",
    "    recall_df = recall_df.append({'Classifier': clf_name, 'Recall': recall}, ignore_index=True)\n",
    "\n",
    "# Display recall scores\n",
    "print(recall_df)\n",
    "\n",
    "# Plot horizontal recall scores with custom colors\n",
    "colors = ['lightblue', 'lightcoral', 'lightgreen', 'lightsalmon']\n",
    "\n",
    "plt.figure(figsize=(8, 4))\n",
    "plt.barh(recall_df['Classifier'], recall_df['Recall'], color=colors)\n",
    "plt.title('Recall Comparison for Different Classifiers')\n",
    "plt.xlabel('Recall')\n",
    "plt.ylabel('Classifier')\n",
    "plt.xlim([0, 1])\n",
    "plt.show()"
   ]
  },
  {
   "cell_type": "code",
   "execution_count": 117,
   "id": "c0f2658e",
   "metadata": {
    "scrolled": false
   },
   "outputs": [
    {
     "name": "stdout",
     "output_type": "stream",
     "text": [
      "                  Classifier  F1 Score\n",
      "0        Logistic Regression  0.676056\n",
      "1   Decision Tree Classifier  0.697424\n",
      "2   Random Forest Classifier  0.679819\n",
      "3  Support Vector Classifier  0.631836\n"
     ]
    },
    {
     "data": {
      "image/png": "[encoded data removed]",
      "text/plain": [
       "<Figure size 800x400 with 1 Axes>"
      ]
     },
     "metadata": {},
     "output_type": "display_data"
    }
   ],
   "source": [
    "#F1 Score\n",
    "classifiers = {\n",
    "    'Logistic Regression': LogisticRegression(random_state=42),\n",
    "    'Decision Tree Classifier': DecisionTreeClassifier(random_state=42),\n",
    "    'Random Forest Classifier': RandomForestClassifier(random_state=42),\n",
    "    'Support Vector Classifier': SVC(random_state=42)\n",
    "}\n",
    "\n",
    "# Store F1 scores in a DataFrame\n",
    "f1_df = pd.DataFrame(columns=['Classifier', 'F1 Score'])\n",
    "\n",
    "# Loop through classifiers and calculate F1 score\n",
    "for clf_name, clf in classifiers.items():\n",
    "    clf.fit(X_train, y_train)\n",
    "    y_pred = clf.predict(X_test)\n",
    "    f1 = f1_score(y_test, y_pred)\n",
    "    f1_df = f1_df.append({'Classifier': clf_name, 'F1 Score': f1}, ignore_index=True)\n",
    "\n",
    "# Display F1 scores\n",
    "print(f1_df)\n",
    "\n",
    "# Plot horizontal F1 scores with custom colors\n",
    "colors = ['lightblue', 'lightcoral', 'lightgreen', 'lightsalmon']\n",
    "\n",
    "plt.figure(figsize=(8, 4))  # Increase figure size\n",
    "plt.barh(f1_df['Classifier'], f1_df['F1 Score'], color=colors)\n",
    "plt.title('F1 Score Comparison for Different Classifiers')\n",
    "plt.xlabel('F1 Score')\n",
    "plt.ylabel('Classifier')\n",
    "plt.xlim([0, 1])\n",
    "plt.tight_layout()  # Adjust spacing\n",
    "plt.show()"
   ]
  },
  {
   "cell_type": "code",
   "execution_count": 124,
   "id": "fa743bfb",
   "metadata": {
    "scrolled": false
   },
   "outputs": [
    {
     "name": "stdout",
     "output_type": "stream",
     "text": [
      "Confusion Matrix for Logistic Regression:\n",
      "[[508 379]\n",
      " [449 864]]\n"
     ]
    },
    {
     "data": {
      "image/png": "[encoded data removed]",
      "text/plain": [
       "<Figure size 400x400 with 1 Axes>"
      ]
     },
     "metadata": {},
     "output_type": "display_data"
    },
    {
     "name": "stdout",
     "output_type": "stream",
     "text": [
      "Confusion Matrix for Decision Tree Classifier:\n",
      "[[506 381]\n",
      " [406 907]]\n"
     ]
    },
    {
     "data": {
      "image/png": "[encoded data removed]",
      "text/plain": [
       "<Figure size 400x400 with 1 Axes>"
      ]
     },
     "metadata": {},
     "output_type": "display_data"
    },
    {
     "name": "stdout",
     "output_type": "stream",
     "text": [
      "Confusion Matrix for Random Forest Classifier:\n",
      "[[594 293]\n",
      " [486 827]]\n"
     ]
    },
    {
     "data": {
      "image/png": "[encoded data removed]",
      "text/plain": [
       "<Figure size 400x400 with 1 Axes>"
      ]
     },
     "metadata": {},
     "output_type": "display_data"
    },
    {
     "name": "stdout",
     "output_type": "stream",
     "text": [
      "Confusion Matrix for Support Vector Classifier:\n",
      "[[799  88]\n",
      " [666 647]]\n"
     ]
    },
    {
     "data": {
      "image/png": "[encoded data removed]",
      "text/plain": [
       "<Figure size 400x400 with 1 Axes>"
      ]
     },
     "metadata": {},
     "output_type": "display_data"
    }
   ],
   "source": [
    "#confusion Matrix\n",
    "classifiers = {\n",
    "    'Logistic Regression': LogisticRegression(random_state=42),\n",
    "    'Decision Tree Classifier': DecisionTreeClassifier(random_state=42),\n",
    "    'Random Forest Classifier': RandomForestClassifier(random_state=42),\n",
    "    'Support Vector Classifier': SVC(random_state=42)\n",
    "}\n",
    "\n",
    "# Loop through classifiers and calculate confusion matrix\n",
    "for clf_name, clf in classifiers.items():\n",
    "    clf.fit(X_train, y_train)\n",
    "    y_pred = clf.predict(X_test)\n",
    "    cm = confusion_matrix(y_test, y_pred)\n",
    "    \n",
    "    # Display confusion matrix\n",
    "    print(f\"Confusion Matrix for {clf_name}:\\n{cm}\")\n",
    "    \n",
    "    # Visualize confusion matrix using seaborn heatmap\n",
    "    plt.figure(figsize=(4, 4))\n",
    "    sns.heatmap(cm, annot=True, fmt='d', cmap='Blues', cbar=False)\n",
    "    plt.title(f'Confusion Matrix for {clf_name}')\n",
    "    plt.xlabel('Predicted')\n",
    "    plt.ylabel('True')\n",
    "    plt.show()"
   ]
  },
  {
   "cell_type": "code",
   "execution_count": 120,
   "id": "40872019",
   "metadata": {
    "scrolled": false
   },
   "outputs": [
    {
     "name": "stdout",
     "output_type": "stream",
     "text": [
      "                  Classifier       AUC\n",
      "0        Logistic Regression  0.702522\n",
      "1   Decision Tree Classifier  0.630623\n",
      "2   Random Forest Classifier  0.728086\n",
      "3  Support Vector Classifier  0.720773\n"
     ]
    },
    {
     "data": {
      "image/png": "[encoded data removed]",
      "text/plain": [
       "<Figure size 800x400 with 1 Axes>"
      ]
     },
     "metadata": {},
     "output_type": "display_data"
    }
   ],
   "source": [
    "#AUC\n",
    "classifiers = {\n",
    "    'Logistic Regression': LogisticRegression(random_state=42),\n",
    "    'Decision Tree Classifier': DecisionTreeClassifier(random_state=42),\n",
    "    'Random Forest Classifier': RandomForestClassifier(random_state=42),\n",
    "    'Support Vector Classifier': SVC(probability=True, random_state=42)\n",
    "}\n",
    "\n",
    "# Store AUC scores in a DataFrame\n",
    "auc_df = pd.DataFrame(columns=['Classifier', 'AUC'])\n",
    "\n",
    "# Loop through classifiers and calculate AUC\n",
    "for clf_name, clf in classifiers.items():\n",
    "    clf.fit(X_train, y_train)\n",
    "    y_prob = clf.predict_proba(X_test)[:, 1]  # Probability of positive class\n",
    "    auc = roc_auc_score(y_test, y_prob)\n",
    "    auc_df = auc_df.append({'Classifier': clf_name, 'AUC': auc}, ignore_index=True)\n",
    "\n",
    "# Display AUC scores\n",
    "print(auc_df)\n",
    "\n",
    "# Plot horizontal AUC scores with custom colors\n",
    "colors = ['lightblue', 'lightcoral', 'lightgreen', 'lightsalmon']\n",
    "\n",
    "plt.figure(figsize=(8,4))  # Increase figure size\n",
    "plt.barh(auc_df['Classifier'], auc_df['AUC'], color=colors)\n",
    "plt.title('AUC Comparison for Different Classifiers')\n",
    "plt.xlabel('AUC')\n",
    "plt.ylabel('Classifier')\n",
    "plt.xlim([0, 1])\n",
    "plt.tight_layout()  # Adjust spacing\n",
    "plt.show()"
   ]
  },
  {
   "cell_type": "code",
   "execution_count": null,
   "id": "3f5cdb7a",
   "metadata": {},
   "outputs": [],
   "source": []
  }
 ],
 "metadata": {
  "kernelspec": {
   "display_name": "Python 3 (ipykernel)",
   "language": "python",
   "name": "python3"
  },
  "language_info": {
   "codemirror_mode": {
    "name": "ipython",
    "version": 3
   },
   "file_extension": ".py",
   "mimetype": "text/x-python",
   "name": "python",
   "nbconvert_exporter": "python",
   "pygments_lexer": "ipython3",
   "version": "3.11.4"
  },
  "papermill": {
   "default_parameters": {},
   "duration": 230.687399,
   "end_time": "2021-05-17T20:52:33.219031",
   "environment_variables": {},
   "exception": null,
   "input_path": "__notebook__.ipynb",
   "output_path": "__notebook__.ipynb",
   "parameters": {},
   "start_time": "2021-05-17T20:48:42.531632",
   "version": "2.3.2"
  }
 },
 "nbformat": 4,
 "nbformat_minor": 5
}
